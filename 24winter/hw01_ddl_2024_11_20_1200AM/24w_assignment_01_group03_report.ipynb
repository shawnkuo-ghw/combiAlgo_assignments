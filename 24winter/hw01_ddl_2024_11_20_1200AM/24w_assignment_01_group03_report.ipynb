{
 "cells": [
  {
   "cell_type": "markdown",
   "metadata": {},
   "source": [
    "|      Course      |            Combinatorial Algorithms           |\n",
    "| :--------------: | :-------------------------------------------: |\n",
    "|   **Semester**   |                **2024 Winter**                |\n",
    "|  **Assignment**  |                    **01**                     |\n",
    "|    **Group**     |                    **03**                     |\n",
    "| **Member 01**    |           **999014681 Mingshan, LI**          |\n",
    "| **Member 02**    |           **999014772 Shunxi, XIAO**          |\n",
    "| **Member 03**    |           **999022064 Weizhi, LU**            |\n",
    "\n"
   ]
  },
  {
   "cell_type": "markdown",
   "metadata": {},
   "source": [
    "## Question 1. Permutations: Lexicographic Order\n",
    "\n",
    "To implement in Python the functions `ranking`, `unranking` and `successor` for permutations in lexicographic, it is neccessary to implement the functions `dec2fac` and `fac2dec` at the first hand."
   ]
  },
  {
   "cell_type": "markdown",
   "metadata": {},
   "source": [
    "For an n-digit number in base factorial, say ${f_{n-1}\\ldots f_2f_1f_0}_{(!)}$, it is represented in the following code as a list-type vairable `fac_num` in python, such that for all `i` $\\in \\{0, 1, 2, \\ldots, n-1\\}$, `fac_num[n-1-i]` = $f_i$."
   ]
  },
  {
   "cell_type": "code",
   "execution_count": 1,
   "metadata": {},
   "outputs": [],
   "source": [
    "def factorial(n: int) -> int:\n",
    "    if n == 0:\n",
    "        return 1\n",
    "    else:\n",
    "        prod = 1\n",
    "        i = 1\n",
    "        while i <= n:\n",
    "            prod = prod * i\n",
    "            i = i + 1\n",
    "        return prod\n",
    "\n",
    "def dec2fac(dec_num: int, n: int) -> list:\n",
    "    '''\n",
    "    Transform a decimal number into an n-digit factorial base number.\n",
    "    '''\n",
    "    fac_num = [0] * n \n",
    "    q, r, i = dec_num, 0, 1\n",
    "    while q > 0:\n",
    "        q, r = q // i, q % i\n",
    "        fac_num[i-1] = r\n",
    "        i = i + 1\n",
    "    fac_num.reverse() # adapt to the way base-factorial number is represented\n",
    "    return fac_num\n",
    "\n",
    "def fac2dec(fac_num_: list, n: int) -> list:\n",
    "    '''\n",
    "    Transform an n-digit number in factorial base into a decimal number.\n",
    "    '''\n",
    "    fac_num = fac_num_[:] # we do not want to change arg. fac_num_\n",
    "    fac_num.reverse()     # adapt to the way base-factorial number is represented\n",
    "    dec_num = 0\n",
    "    prod = 1\n",
    "    i = 1 # The first element in fac_num is always 0, so we begin with i = 1.\n",
    "    while i < n:\n",
    "        dec_num = dec_num + fac_num[i] * prod\n",
    "        prod = (prod + 1) * prod\n",
    "        i = i + 1\n",
    "    return dec_num"
   ]
  },
  {
   "cell_type": "markdown",
   "metadata": {},
   "source": [
    "Checking correctness:"
   ]
  },
  {
   "cell_type": "code",
   "execution_count": 2,
   "metadata": {},
   "outputs": [
    {
     "name": "stdout",
     "output_type": "stream",
     "text": [
      "(i =  0)  In factorial: [0, 0, 0, 0] ,  In decimal:  0\n",
      "(i =  1)  In factorial: [0, 0, 1, 0] ,  In decimal:  1\n",
      "(i =  2)  In factorial: [0, 1, 0, 0] ,  In decimal:  2\n",
      "(i =  3)  In factorial: [0, 1, 1, 0] ,  In decimal:  3\n",
      "(i =  4)  In factorial: [0, 2, 0, 0] ,  In decimal:  4\n",
      "(i =  5)  In factorial: [0, 2, 1, 0] ,  In decimal:  5\n",
      "(i =  6)  In factorial: [1, 0, 0, 0] ,  In decimal:  6\n",
      "(i =  7)  In factorial: [1, 0, 1, 0] ,  In decimal:  7\n",
      "(i =  8)  In factorial: [1, 1, 0, 0] ,  In decimal:  8\n",
      "(i =  9)  In factorial: [1, 1, 1, 0] ,  In decimal:  9\n",
      "(i = 10)  In factorial: [1, 2, 0, 0] ,  In decimal: 10\n",
      "(i = 11)  In factorial: [1, 2, 1, 0] ,  In decimal: 11\n",
      "(i = 12)  In factorial: [2, 0, 0, 0] ,  In decimal: 12\n",
      "(i = 13)  In factorial: [2, 0, 1, 0] ,  In decimal: 13\n",
      "(i = 14)  In factorial: [2, 1, 0, 0] ,  In decimal: 14\n",
      "(i = 15)  In factorial: [2, 1, 1, 0] ,  In decimal: 15\n",
      "(i = 16)  In factorial: [2, 2, 0, 0] ,  In decimal: 16\n",
      "(i = 17)  In factorial: [2, 2, 1, 0] ,  In decimal: 17\n",
      "(i = 18)  In factorial: [3, 0, 0, 0] ,  In decimal: 18\n",
      "(i = 19)  In factorial: [3, 0, 1, 0] ,  In decimal: 19\n",
      "(i = 20)  In factorial: [3, 1, 0, 0] ,  In decimal: 20\n",
      "(i = 21)  In factorial: [3, 1, 1, 0] ,  In decimal: 21\n",
      "(i = 22)  In factorial: [3, 2, 0, 0] ,  In decimal: 22\n",
      "(i = 23)  In factorial: [3, 2, 1, 0] ,  In decimal: 23\n"
     ]
    }
   ],
   "source": [
    "n = 4\n",
    "n_fac = factorial(n)\n",
    "\n",
    "for i in range(n_fac):\n",
    "    fac_num = dec2fac(i, n)\n",
    "    dec_num = fac2dec(fac_num, n)\n",
    "    print(f'(i = {i:2})  In factorial: {fac_num} ,  In decimal: {dec_num:2}')"
   ]
  },
  {
   "cell_type": "markdown",
   "metadata": {},
   "source": [
    "To implement the `ranking` and `unranking` algorithm, it is necessary to implement algorithms to transform from Lehmer codes to permutations and vice versa, respectively."
   ]
  },
  {
   "cell_type": "code",
   "execution_count": 3,
   "metadata": {},
   "outputs": [],
   "source": [
    "def permu2lehmer(permu: list) -> list:\n",
    "    '''\n",
    "    Transform a permutaiton into its lehmer code.\n",
    "    '''\n",
    "    n = len(permu)\n",
    "    lehmer = [0] * n\n",
    "    for i in range(n):\n",
    "        curr = 0\n",
    "        for j in range(i, n):\n",
    "            if permu[j] < permu[i]:\n",
    "                curr += 1\n",
    "        lehmer[i] = curr\n",
    "    return lehmer\n",
    "\n",
    "def lehmer2permu(lehmer: list) -> list:\n",
    "    '''\n",
    "    Transform a lehmer code into the corresponding permtation.\n",
    "    '''\n",
    "    n = len(lehmer)\n",
    "    num_list = [i for i in range(n)] # [0, 1, 2, ... , n-2, n-1]\n",
    "    permu = [0] * n\n",
    "    for i in range(n):\n",
    "        curr = lehmer[i]\n",
    "        permu[i] = num_list[curr]\n",
    "        # eliminate the curr-th element from the num_list.\n",
    "        if curr == 0:\n",
    "            num_list = num_list[curr+1:]\n",
    "        elif curr == n-1:\n",
    "            num_list = num_list[:curr]\n",
    "        else:\n",
    "            num_list = num_list[:curr] + num_list[curr+1:]\n",
    "    return permu"
   ]
  },
  {
   "cell_type": "markdown",
   "metadata": {},
   "source": [
    "Checking correctness:"
   ]
  },
  {
   "cell_type": "code",
   "execution_count": 4,
   "metadata": {},
   "outputs": [
    {
     "name": "stdout",
     "output_type": "stream",
     "text": [
      "permu: [2, 0, 3, 1] -> lehmer code: [2, 0, 1, 0] -> permu: [2, 0, 3, 1]\n",
      "permu: [3, 0, 1, 2] -> lehmer code: [3, 0, 0, 0] -> permu: [3, 0, 1, 2]\n"
     ]
    }
   ],
   "source": [
    "# Case 01\n",
    "permu_01 = [2, 0, 3, 1]\n",
    "lehmer_01 = permu2lehmer(permu_01) # it should be [2, 0, 1, 0]\n",
    "permu_01_ = lehmer2permu(lehmer_01)\n",
    "print(f'permu: {permu_01} -> lehmer code: {lehmer_01} -> permu: {permu_01_}')\n",
    "\n",
    "# Case 02\n",
    "permu_02 = [3, 0, 1, 2]\n",
    "lehmer_02 = permu2lehmer(permu_02) # it should be [3, 0, 0, 0]\n",
    "permu_02_ = lehmer2permu(lehmer_02)\n",
    "print(f'permu: {permu_02} -> lehmer code: {lehmer_02} -> permu: {permu_02_}')\n"
   ]
  },
  {
   "cell_type": "markdown",
   "metadata": {},
   "source": [
    "Now, the `ranking` and `unranking` algorithms can be implemented as followings:"
   ]
  },
  {
   "cell_type": "code",
   "execution_count": 5,
   "metadata": {},
   "outputs": [],
   "source": [
    "def permu_lex_rank(permu: list, n: int) -> int:\n",
    "    '''\n",
    "    Ranking algorithm of permutation over n in lexicographic order.\n",
    "    '''\n",
    "    r_fac = permu2lehmer(permu)  # rank in base factorial\n",
    "    r_dec = fac2dec(r_fac, n)    # rank in base decimal\n",
    "    return r_dec\n",
    "\n",
    "def permu_lex_unrank(r_dec: int, n: int) -> list:\n",
    "    '''\n",
    "    Unranking algorithm of permutation over n in lexicographic order.\n",
    "    '''\n",
    "    r_fac = dec2fac(r_dec, n)   # rank in base factorial\n",
    "    permu = lehmer2permu(r_fac) # permutation\n",
    "    return permu"
   ]
  },
  {
   "cell_type": "markdown",
   "metadata": {},
   "source": [
    "Checking correctness:"
   ]
  },
  {
   "cell_type": "code",
   "execution_count": 6,
   "metadata": {},
   "outputs": [
    {
     "name": "stdout",
     "output_type": "stream",
     "text": [
      "rank( [0, 1, 2, 3] ) =  0\n",
      "rank( [0, 1, 3, 2] ) =  1\n",
      "rank( [0, 2, 1, 3] ) =  2\n",
      "rank( [0, 2, 3, 1] ) =  3\n",
      "rank( [0, 3, 1, 2] ) =  4\n",
      "rank( [0, 3, 2, 1] ) =  5\n",
      "rank( [1, 0, 2, 3] ) =  6\n",
      "rank( [1, 0, 3, 2] ) =  7\n",
      "rank( [1, 2, 0, 3] ) =  8\n",
      "rank( [1, 2, 3, 0] ) =  9\n",
      "rank( [1, 3, 0, 2] ) = 10\n",
      "rank( [1, 3, 2, 0] ) = 11\n",
      "rank( [2, 0, 1, 3] ) = 12\n",
      "rank( [2, 0, 3, 1] ) = 13\n",
      "rank( [2, 1, 0, 3] ) = 14\n",
      "rank( [2, 1, 3, 0] ) = 15\n",
      "rank( [2, 3, 0, 1] ) = 16\n",
      "rank( [2, 3, 1, 0] ) = 17\n",
      "rank( [3, 0, 1, 2] ) = 18\n",
      "rank( [3, 0, 2, 1] ) = 19\n",
      "rank( [3, 1, 0, 2] ) = 20\n",
      "rank( [3, 1, 2, 0] ) = 21\n",
      "rank( [3, 2, 0, 1] ) = 22\n",
      "rank( [3, 2, 1, 0] ) = 23\n"
     ]
    }
   ],
   "source": [
    "n = 4\n",
    "n_fac = factorial(n)\n",
    "for i in range(n_fac):\n",
    "    curr_permu = permu_lex_unrank(i, n)\n",
    "    curr_rank = permu_lex_rank(curr_permu, n)\n",
    "    print(f'rank( {curr_permu} ) = {curr_rank:2}')"
   ]
  },
  {
   "cell_type": "markdown",
   "metadata": {},
   "source": [
    "For the successor algorithm for permutation, we follow the following steps to implement the successor algorithm:\n",
    "\n",
    "Given that $\\pi:\\{0, 1, \\cdots, n-1\\} \\to \\{0, 1, \\cdots, n-1\\}$ a permutation over $\\{0,1,\\ldots, n-2,n-1\\}$,\n",
    "\n",
    "1. Find the largest $i \\in \\{0,1,\\ldots,n-1\\}$ such that $\\pi[i] < \\pi[i+1]$. $i$ D.N.E. $\\iff$ $\\pi$ is the last permutation.\n",
    "\n",
    "2. Find the largest $j \\in \\{0,1,\\ldots,n-1\\}$ such that $\\pi[k] < \\pi[i] < \\pi[j]$, $\\forall k \\in \\{j+1,\\ldots, n-1\\}$ (i.e. $j$ is the position of the last element among $\\pi[i+1],\\  \\ldots,\\ \\pi[n-1]$ that is greater than $\\pi[i]$). \n",
    "\n",
    "3. Interchange $\\pi[i]$ and $\\pi[j]$.\n",
    "\n",
    "4. Reverse the sublist $[\\pi[i+1], \\pi[i+2], \\ldots, \\pi[n]]$."
   ]
  },
  {
   "cell_type": "code",
   "execution_count": 7,
   "metadata": {},
   "outputs": [],
   "source": [
    "def permu_lex_successor(permu_: list):\n",
    "    permu = permu_[:] # we do not want to change arg. permu_\n",
    "    n = len(permu)\n",
    "    '''\n",
    "    Step 1: Find the largest i such that 𝜋[i] < 𝜋[i+1].\n",
    "    '''\n",
    "    i = -1\n",
    "    k = 0\n",
    "    while k < n - 1:\n",
    "        if permu[k] < permu[k+1]:\n",
    "            i = k\n",
    "        k = k + 1\n",
    "    if i == -1: # such i D.N.E., that is, permu is the last permutation\n",
    "        return [x for x in range(n)] \n",
    "    '''\n",
    "    Step 2: Find the largest j such that 𝜋[j] > 𝜋[i].\n",
    "    '''    \n",
    "    j = i + 1\n",
    "    l = i + 1\n",
    "    while l < n:\n",
    "        if permu[l] > permu[i]:\n",
    "            j = l\n",
    "        l = l + 1\n",
    "    '''\n",
    "    Step 3: Swap 𝜋[i] and 𝜋[j]\n",
    "    '''\n",
    "    temp = permu[i]\n",
    "    permu[i] = permu[j]\n",
    "    permu[j] = temp\n",
    "    '''\n",
    "    Step 4: \n",
    "    '''\n",
    "    sublist = permu[i+1:]\n",
    "    sublist.reverse()\n",
    "    succ_permu = permu[:i+1] + sublist\n",
    "    return succ_permu"
   ]
  },
  {
   "cell_type": "markdown",
   "metadata": {},
   "source": [
    "Now, we check the correctness of `ranking`, `unranking` and `successor` algorithms."
   ]
  },
  {
   "cell_type": "code",
   "execution_count": 8,
   "metadata": {},
   "outputs": [
    {
     "name": "stdout",
     "output_type": "stream",
     "text": [
      "rank( [0, 1, 2, 3] ) =   0,  successor( [0, 1, 2, 3] ) = [0, 1, 3, 2], True\n",
      "rank( [0, 1, 3, 2] ) =   1,  successor( [0, 1, 3, 2] ) = [0, 2, 1, 3], True\n",
      "rank( [0, 2, 1, 3] ) =   2,  successor( [0, 2, 1, 3] ) = [0, 2, 3, 1], True\n",
      "rank( [0, 2, 3, 1] ) =   3,  successor( [0, 2, 3, 1] ) = [0, 3, 1, 2], True\n",
      "rank( [0, 3, 1, 2] ) =   4,  successor( [0, 3, 1, 2] ) = [0, 3, 2, 1], True\n",
      "rank( [0, 3, 2, 1] ) =   5,  successor( [0, 3, 2, 1] ) = [1, 0, 2, 3], True\n",
      "rank( [1, 0, 2, 3] ) =   6,  successor( [1, 0, 2, 3] ) = [1, 0, 3, 2], True\n",
      "rank( [1, 0, 3, 2] ) =   7,  successor( [1, 0, 3, 2] ) = [1, 2, 0, 3], True\n",
      "rank( [1, 2, 0, 3] ) =   8,  successor( [1, 2, 0, 3] ) = [1, 2, 3, 0], True\n",
      "rank( [1, 2, 3, 0] ) =   9,  successor( [1, 2, 3, 0] ) = [1, 3, 0, 2], True\n",
      "rank( [1, 3, 0, 2] ) =  10,  successor( [1, 3, 0, 2] ) = [1, 3, 2, 0], True\n",
      "rank( [1, 3, 2, 0] ) =  11,  successor( [1, 3, 2, 0] ) = [2, 0, 1, 3], True\n",
      "rank( [2, 0, 1, 3] ) =  12,  successor( [2, 0, 1, 3] ) = [2, 0, 3, 1], True\n",
      "rank( [2, 0, 3, 1] ) =  13,  successor( [2, 0, 3, 1] ) = [2, 1, 0, 3], True\n",
      "rank( [2, 1, 0, 3] ) =  14,  successor( [2, 1, 0, 3] ) = [2, 1, 3, 0], True\n",
      "rank( [2, 1, 3, 0] ) =  15,  successor( [2, 1, 3, 0] ) = [2, 3, 0, 1], True\n",
      "rank( [2, 3, 0, 1] ) =  16,  successor( [2, 3, 0, 1] ) = [2, 3, 1, 0], True\n",
      "rank( [2, 3, 1, 0] ) =  17,  successor( [2, 3, 1, 0] ) = [3, 0, 1, 2], True\n",
      "rank( [3, 0, 1, 2] ) =  18,  successor( [3, 0, 1, 2] ) = [3, 0, 2, 1], True\n",
      "rank( [3, 0, 2, 1] ) =  19,  successor( [3, 0, 2, 1] ) = [3, 1, 0, 2], True\n",
      "rank( [3, 1, 0, 2] ) =  20,  successor( [3, 1, 0, 2] ) = [3, 1, 2, 0], True\n",
      "rank( [3, 1, 2, 0] ) =  21,  successor( [3, 1, 2, 0] ) = [3, 2, 0, 1], True\n",
      "rank( [3, 2, 0, 1] ) =  22,  successor( [3, 2, 0, 1] ) = [3, 2, 1, 0], True\n",
      "rank( [3, 2, 1, 0] ) =  23,  successor( [3, 2, 1, 0] ) = [0, 1, 2, 3], True\n"
     ]
    }
   ],
   "source": [
    "N = 4\n",
    "N_fac = factorial(N)\n",
    "for r in range(N_fac):\n",
    "    permu = permu_lex_unrank(r, N)\n",
    "    rank = permu_lex_rank(permu, N)\n",
    "    succp = permu_lex_successor(permu)\n",
    "    if succp == permu_lex_unrank( (permu_lex_rank(permu, N) + 1) %  N_fac, N ):\n",
    "        flag = True\n",
    "    else:\n",
    "        flag = False\n",
    "    print(f'rank( {permu} ) = {rank:3},  successor( {permu} ) = {succp}, {flag}')"
   ]
  },
  {
   "cell_type": "markdown",
   "metadata": {},
   "source": [
    "## Question 2. Permutations: Minimal Change Order\n",
    "\n",
    "It can be easily notices that, for any two different permutations $\\pi, \\pi'$ over \n",
    "$[n]:= \\{0, 1, 2, \\ldots, n-1 \\}$, there are at least two positions $i_1, i_2 \\in [n]$ such that $\\pi[i_1] \\neq \\pi'[i_1]$ and $\\pi[i_2] \\neq \\pi'[i_2]$.\n",
    "\n",
    "The difference is minimal if the transposition is between two adjacent positions, i.e. $i_1 = i_2 + 1$ or vice versa.\n",
    "\n",
    "Equivalently, we can say that, there exist an $i_0 \\in \\{1, 2, \\ldots, n-2, n-1\\}$ such that \n",
    "$\\forall j \\in [n]$,\n",
    "$$\n",
    "\\pi'[j] = \n",
    "\\begin{cases} \n",
    "\\ \\pi[i_0+1]\\ ,\\ & j = i_0\\\\\n",
    "\\ \\pi[i_0]\\ ,\\   & j = i_0+1\\\\\n",
    "\\ \\pi[j]\\ ,\\     & j \\neq i_0, i_0+1\\\\\n",
    "\\end{cases}\n",
    "$$"
   ]
  },
  {
   "cell_type": "markdown",
   "metadata": {},
   "source": [
    "Next, we follow the steps below to implement the **Trotter-Johnson algorithm** for generating the list $T^n$ of the permutations in $\\prod^n$ in the minimal change order.\n",
    "\n",
    "The **Trotter-Johnson algorithm** is implemented recursively:\n",
    "\n",
    "1. **Base Case** : $T^1 = [[1]]$\n",
    "\n",
    "2. **Inductive Step** : Suppose given $T^{n-1}$ the list of the permutations in $\\prod^{n-1}$ in the minimal order.\n",
    "\n",
    "    - Create a new list $T$ with the $i$-th $n$ elements are $n$ copies of $T_i^{n-1}$.\n",
    "    \n",
    "    - Every $t \\in T$ is a $k$-th copy of some $T_j^{n-1}$, $j \\in [n-1]$, $k \\in [n]$. \n",
    "    Let $b = j\\mod 2$. Then, we replace $t \\in T$ by the list obtained from inserting $n$ in the \n",
    "    $|(1-b)*(n+1)-(k-b)|$-th position of $t$. "
   ]
  },
  {
   "cell_type": "code",
   "execution_count": 9,
   "metadata": {},
   "outputs": [],
   "source": [
    "def permu_trotterJohnson(n: int) -> list:\n",
    "\n",
    "    '''\n",
    "    Return all the permutations of {1, 2, ..., n}.\n",
    "    '''\n",
    "\n",
    "    curr_T = []\n",
    "    if n == 1:\n",
    "        curr_T = [[1]]\n",
    "    else:\n",
    "        prev_T = permu_trotterJohnson(n-1)\n",
    "        for l in prev_T:\n",
    "            i = 0\n",
    "            while i < n:\n",
    "                curr_T.append(l)\n",
    "                i = i + 1\n",
    "        n_fac = factorial(n)\n",
    "        for i in range(n_fac):\n",
    "            k = i % n + 1\n",
    "            b = ( i // n ) % 2        \n",
    "            t = abs( (1-b) * n - (k-b) )\n",
    "            curr_T[i] = curr_T[i][:t] + [n] + curr_T[i][t:]\n",
    "    return curr_T"
   ]
  },
  {
   "cell_type": "markdown",
   "metadata": {},
   "source": [
    "Checking correctness:"
   ]
  },
  {
   "cell_type": "code",
   "execution_count": 10,
   "metadata": {},
   "outputs": [
    {
     "name": "stdout",
     "output_type": "stream",
     "text": [
      "[1, 2, 3]\n",
      "[1, 3, 2]\n",
      "[3, 1, 2]\n",
      "[3, 2, 1]\n",
      "[2, 3, 1]\n",
      "[2, 1, 3]\n"
     ]
    }
   ],
   "source": [
    "N = 3\n",
    "N_fac = factorial(N)\n",
    "T_n = permu_trotterJohnson(N)\n",
    "for i in range(N_fac):\n",
    "    print(T_n[i])"
   ]
  },
  {
   "cell_type": "markdown",
   "metadata": {},
   "source": [
    "Now, we turn our attention to the implementation of `ranking` algorithm for $T^n$.\n",
    "\n",
    "Notice that, suppoes given $\\pi \\in T^n$ such that $\\pi[k] = n$, then it must be the case that\n",
    "\n",
    "$$\\pi[:(k-1)] + \\pi[(k+1):] := \\pi' \\in T^{n-1}$$\n",
    "\n",
    "That is to say, $\\pi \\in T^n$ can be obtained from inserting $n$ into the $k$-th position of some $\\pi' \\in T^{n-1}$. This means we can  obtain rank($\\pi$) recursively from the value rank($\\pi'$)\n",
    "and the specific $k \\in [n]$, i.e. the position in $\\pi$ such that $\\pi[k] = n$.\n",
    "\n",
    "Moreover, we have the following recursive formula: $\\forall n \\in \\mathbb{N}$,\n",
    "\n",
    "$$ \n",
    "\\text{rank}{(\\pi, n)} =\n",
    "\\begin{cases}\n",
    "\\ 0 &,\\ n = 1\\ (\\ i.e.\\ \\pi = [1]\\ ) \\\\\n",
    "\\ n \\cdot \\text{rank}{(\\pi', n-1)} + \\epsilon &,\\ n \\geqslant 2\n",
    "\\end{cases}\n",
    "$$\n",
    "\n",
    "where\n",
    "\n",
    "$$\n",
    "\\epsilon = \n",
    "\\begin{cases}\n",
    "\\ n - k & ,\\ \\text{rank}(\\pi', n-1)\\ \\text{is even} \\\\\n",
    "\\ k - 1 & ,\\ \\text{rank}(\\pi', n-1)\\ \\text{is odd}\n",
    "\\end{cases}\n",
    "$$"
   ]
  },
  {
   "cell_type": "code",
   "execution_count": 11,
   "metadata": {},
   "outputs": [],
   "source": [
    "def epsilon(r: int, n: int, k: int) -> int:\n",
    "\n",
    "    '''\n",
    "    Implementation of the calculation of epsilon.\n",
    "    \n",
    "    Arguments:\n",
    "\n",
    "    r: rank(𝜋', n-1)\n",
    "    n: the size of the permutation permu_\n",
    "    k: the position in permu_ such that permu[k] = n\n",
    "    '''\n",
    "\n",
    "    if r % 2 == 0:\n",
    "        return n - k\n",
    "    else:\n",
    "        return k - 1\n",
    "\n",
    "\n",
    "def permu_colexi_rank(permu: list, n: int) -> int:\n",
    "    \n",
    "    '''\n",
    "    The implementation of ranking alogorithmn of permutation over [n] = {1, 2, ..., n}    \n",
    "    '''\n",
    "\n",
    "    if n == 0:\n",
    "\n",
    "        return 0\n",
    "\n",
    "    else :\n",
    "\n",
    "        k = permu.index(n)\n",
    "        prev_r = permu_colexi_rank( permu[:k] + permu[k+1:], n - 1 )\n",
    "        e = epsilon(prev_r, n, k+1) # k is obtained from python, which begins from 0.\n",
    "        return n * prev_r + e"
   ]
  },
  {
   "cell_type": "markdown",
   "metadata": {},
   "source": [
    "Checking correctness:"
   ]
  },
  {
   "cell_type": "code",
   "execution_count": 12,
   "metadata": {},
   "outputs": [
    {
     "name": "stdout",
     "output_type": "stream",
     "text": [
      "rank( [1, 2, 3] ) = 0\n",
      "rank( [1, 3, 2] ) = 1\n",
      "rank( [3, 1, 2] ) = 2\n",
      "rank( [3, 2, 1] ) = 3\n",
      "rank( [2, 3, 1] ) = 4\n",
      "rank( [2, 1, 3] ) = 5\n"
     ]
    }
   ],
   "source": [
    "N = 3 \n",
    "permutations_N = permu_trotterJohnson(N)\n",
    "for permu in permutations_N:\n",
    "    r = permu_colexi_rank(permu, N)\n",
    "    print(f'rank( {permu} ) = {r}')"
   ]
  },
  {
   "cell_type": "markdown",
   "metadata": {},
   "source": [
    "Similarly, with the same idea, we implement `unranking` algorithm recursively.\n",
    "\n",
    "It is an inverse procedure of `ranking` algorithm. So we formulate the following recursive formulas to generate the permutation of $[n]$ with rank $r$.\n",
    "\n",
    "$$\n",
    "\\text{unrank}(r, n) = \n",
    "\\begin{cases}\n",
    "\\ [1] &,\\ n = 1 \\\\\n",
    "\\ \\text{unrank}(r',\\ n-1)[:k] + [n] + \\ \\text{unrank}(r',\\ n-1)[k:] &,\\ n \\geqslant 2\n",
    "\\end{cases}\n",
    "$$\n",
    "\n",
    "where\n",
    "\n",
    "$$\n",
    "r' = \\left\\lfloor\\frac{r}{n}\\right\\rfloor\\ \n",
    "\\text{is the rank of $\\pi'$ obtained from eliminateing $n$ from $\\pi$},\n",
    "$$\n",
    "$$\\epsilon = r - n \\cdot r'$$\n",
    "and \n",
    "$$\n",
    "k = \n",
    "\\begin{cases}\n",
    "\\ n - \\epsilon\\ ,&\\ r'\\ \\text{is even} \\\\\n",
    "\\ \\epsilon + 1\\ ,&\\ r'\\ \\text{is odd}\n",
    "\\end{cases}\n",
    "$$"
   ]
  },
  {
   "cell_type": "code",
   "execution_count": 13,
   "metadata": {},
   "outputs": [],
   "source": [
    "def pos_k(r: int, e: int, n: int) -> int:\n",
    "\n",
    "    '''\n",
    "    Implementation of calculation of the position k, such that 𝜋[k] = n\n",
    "\n",
    "    Arguments:\n",
    "    r: the rank of 𝜋'\n",
    "\n",
    "    '''\n",
    "\n",
    "    if r % 2 == 0:\n",
    "        return n - e\n",
    "    else:\n",
    "        return e + 1\n",
    "\n",
    "def permu_colexi_unrank(r: int, n: int) -> int:\n",
    "\n",
    "    '''\n",
    "    The implementation of unranking alogorithmn of permutation over [n] = {1, 2, ..., n}    \n",
    "    '''\n",
    "\n",
    "    if n == 1:\n",
    "\n",
    "        return [1]\n",
    "\n",
    "    else:\n",
    "\n",
    "        prev_r = r // n\n",
    "        e = r - n * prev_r\n",
    "        k = pos_k(prev_r, e, n) - 1 # k is position in python list, which begins from 0.\n",
    "        prev_permu = permu_colexi_unrank(prev_r, n-1)\n",
    "\n",
    "        return prev_permu[:k] + [n] + prev_permu[k:]"
   ]
  },
  {
   "cell_type": "markdown",
   "metadata": {},
   "source": [
    "Checking correctness of `ranking` and `unranking` algorithm:"
   ]
  },
  {
   "cell_type": "code",
   "execution_count": 14,
   "metadata": {},
   "outputs": [
    {
     "name": "stdout",
     "output_type": "stream",
     "text": [
      "rank( [1, 2, 3] ) =  0\n",
      "rank( [1, 3, 2] ) =  1\n",
      "rank( [3, 1, 2] ) =  2\n",
      "rank( [3, 2, 1] ) =  3\n",
      "rank( [2, 3, 1] ) =  4\n",
      "rank( [2, 1, 3] ) =  5\n"
     ]
    }
   ],
   "source": [
    "N = 3\n",
    "N_fac = factorial(N)\n",
    "for r in range(N_fac):\n",
    "    curr_permu = permu_colexi_unrank(r, N)\n",
    "    curr_rank = permu_colexi_rank(curr_permu, N) \n",
    "    print(f'rank( {curr_permu} ) = {curr_rank:2}')"
   ]
  },
  {
   "cell_type": "markdown",
   "metadata": {},
   "source": [
    "Finally, the implementation of `successor` algorithm:"
   ]
  },
  {
   "cell_type": "code",
   "execution_count": 15,
   "metadata": {},
   "outputs": [],
   "source": [
    "def Parity(n, P):\n",
    "    \"\"\"\n",
    "    Calculate the parity of a permutation.\n",
    "    \"\"\"\n",
    "    a = [0] * n  # Array to track visited elements.\n",
    "    c = 0  # Counter for the number of cycles.\n",
    "\n",
    "    # Iterate through each element in the permutation.\n",
    "    for j in range(n):\n",
    "        if a[j] == 0:  # If this element is not visited yet.\n",
    "            c += 1  # Increment the cycle count.\n",
    "            a[j] = 1  # Mark it as visited.\n",
    "            i = j\n",
    "\n",
    "            # Traverse the cycle starting from this element.\n",
    "            while(P[i] != j + 1):  # Continue until the cycle closes.\n",
    "                i = P[i] - 1  # Move to the next element in the cycle.\n",
    "                a[i] = 1  # Mark the element as visited.\n",
    "    \n",
    "    # Return the parity of the permutation.\n",
    "    return (n - c) % 2\n",
    "\n",
    "def permu_colexi_successor(n, P):\n",
    "    \"\"\"\n",
    "    Compute the next permutation in using a modified version of the Trotter-Johnson algorithm.\n",
    "    \"\"\"\n",
    "    st = 0  # Starting index for the permutation.\n",
    "    Q = P[:]  # Copy of the permutation to be used in calculations.\n",
    "    done = False  # Flag to indicate if the next permutation is found.\n",
    "    m = n  # Length of the current sub-permutation being considered.\n",
    "\n",
    "    while((m > 1) and (not done)):\n",
    "        d = 0  # Find the position of the largest element in the current range.\n",
    "        while(Q[d] != m):  # Locate the position of 'm' in Q.\n",
    "            d += 1\n",
    "        \n",
    "        # Temporarily remove m from Q by shifting elements to the left.\n",
    "        for i in range(d, m - 1):\n",
    "            Q[i] = Q[i + 1]\n",
    "        \n",
    "        # Check the parity of the resulting permutation.\n",
    "        par = Parity(m - 1, Q)\n",
    "\n",
    "        # Determine whether to swap or reduce m\n",
    "        if(par == 1):  # Odd parity case.\n",
    "            if d == m - 1:  # If 'm' is at the last position, reduce the size of the range.\n",
    "                m -= 1\n",
    "            else:  # Otherwise, swap 'm' with the next element to its right.\n",
    "                temp = P[st + d]\n",
    "                P[st + d] = P[st + d + 1]\n",
    "                P[st + d + 1] = temp\n",
    "                done = True  # Mark the next permutation as found.\n",
    "        else:  # Even parity case.\n",
    "            if(d == 0):  # If 'm' is at the first position, reduce the size of the range.\n",
    "                m -= 1\n",
    "                st += 1  # Update the starting index.\n",
    "            else:  # Otherwise, swap 'm' with the previous element.\n",
    "                temp = P[st + d]\n",
    "                P[st + d] = P[st + d - 1]\n",
    "                P[st + d - 1] = temp\n",
    "                done = True  # Mark the next permutation as found.\n",
    "\n",
    "        # Restore Q to its original state for the next iteration.\n",
    "        Q = P[st:st + m]\n",
    "\n",
    "    if m == 1 and not done:\n",
    "        # return 'undefined'\n",
    "        return [x+1 for x in range(n)]  # The input permutation is the last in lexicographic order.\n",
    "    else:\n",
    "        return P  # Return the next permutation.\n"
   ]
  },
  {
   "cell_type": "markdown",
   "metadata": {},
   "source": [
    "Checking the correctness of `ranking`, `unranking` and `successor` algorithms:"
   ]
  },
  {
   "cell_type": "code",
   "execution_count": 16,
   "metadata": {},
   "outputs": [
    {
     "name": "stdout",
     "output_type": "stream",
     "text": [
      "rank( [1, 2, 3, 4] ) =   0,  successor( [1, 2, 3, 4] ) = [1, 2, 4, 3], True\n",
      "rank( [1, 2, 4, 3] ) =   1,  successor( [1, 2, 4, 3] ) = [1, 4, 2, 3], True\n",
      "rank( [1, 4, 2, 3] ) =   2,  successor( [1, 4, 2, 3] ) = [4, 1, 2, 3], True\n",
      "rank( [4, 1, 2, 3] ) =   3,  successor( [4, 1, 2, 3] ) = [4, 1, 3, 2], True\n",
      "rank( [4, 1, 3, 2] ) =   4,  successor( [4, 1, 3, 2] ) = [1, 4, 3, 2], True\n",
      "rank( [1, 4, 3, 2] ) =   5,  successor( [1, 4, 3, 2] ) = [1, 3, 4, 2], True\n",
      "rank( [1, 3, 4, 2] ) =   6,  successor( [1, 3, 4, 2] ) = [1, 3, 2, 4], True\n",
      "rank( [1, 3, 2, 4] ) =   7,  successor( [1, 3, 2, 4] ) = [3, 1, 2, 4], True\n",
      "rank( [3, 1, 2, 4] ) =   8,  successor( [3, 1, 2, 4] ) = [3, 1, 4, 2], True\n",
      "rank( [3, 1, 4, 2] ) =   9,  successor( [3, 1, 4, 2] ) = [3, 4, 1, 2], True\n",
      "rank( [3, 4, 1, 2] ) =  10,  successor( [3, 4, 1, 2] ) = [4, 3, 1, 2], True\n",
      "rank( [4, 3, 1, 2] ) =  11,  successor( [4, 3, 1, 2] ) = [4, 3, 2, 1], True\n",
      "rank( [4, 3, 2, 1] ) =  12,  successor( [4, 3, 2, 1] ) = [3, 4, 2, 1], True\n",
      "rank( [3, 4, 2, 1] ) =  13,  successor( [3, 4, 2, 1] ) = [3, 2, 4, 1], True\n",
      "rank( [3, 2, 4, 1] ) =  14,  successor( [3, 2, 4, 1] ) = [3, 2, 1, 4], True\n",
      "rank( [3, 2, 1, 4] ) =  15,  successor( [3, 2, 1, 4] ) = [2, 3, 1, 4], True\n",
      "rank( [2, 3, 1, 4] ) =  16,  successor( [2, 3, 1, 4] ) = [2, 3, 4, 1], True\n",
      "rank( [2, 3, 4, 1] ) =  17,  successor( [2, 3, 4, 1] ) = [2, 4, 3, 1], True\n",
      "rank( [2, 4, 3, 1] ) =  18,  successor( [2, 4, 3, 1] ) = [4, 2, 3, 1], True\n",
      "rank( [4, 2, 3, 1] ) =  19,  successor( [4, 2, 3, 1] ) = [4, 2, 1, 3], True\n",
      "rank( [4, 2, 1, 3] ) =  20,  successor( [4, 2, 1, 3] ) = [2, 4, 1, 3], True\n",
      "rank( [2, 4, 1, 3] ) =  21,  successor( [2, 4, 1, 3] ) = [2, 1, 4, 3], True\n",
      "rank( [2, 1, 4, 3] ) =  22,  successor( [2, 1, 4, 3] ) = [2, 1, 3, 4], True\n",
      "rank( [2, 1, 3, 4] ) =  23,  successor( [2, 1, 3, 4] ) = [1, 2, 3, 4], True\n"
     ]
    }
   ],
   "source": [
    "N = 4\n",
    "N_fac = factorial(N)\n",
    "for r in range(N_fac):\n",
    "    curr_permu = permu_colexi_unrank(r, N)\n",
    "    curr_rank = permu_colexi_rank(curr_permu, N)\n",
    "    next_permu = permu_colexi_successor(N, curr_permu[:])\n",
    "\n",
    "    if next_permu == permu_colexi_unrank( (permu_colexi_rank(curr_permu, N) + 1) %  N_fac, N ):\n",
    "        flag = True\n",
    "    else:\n",
    "        flag = False\n",
    "    \n",
    "    print(f'rank( {curr_permu} ) = {curr_rank:3},  successor( {curr_permu} ) = {next_permu}, {flag}') "
   ]
  }
 ],
 "metadata": {
  "kernelspec": {
   "display_name": "latest",
   "language": "python",
   "name": "python3"
  },
  "language_info": {
   "codemirror_mode": {
    "name": "ipython",
    "version": 3
   },
   "file_extension": ".py",
   "mimetype": "text/x-python",
   "name": "python",
   "nbconvert_exporter": "python",
   "pygments_lexer": "ipython3",
   "version": "3.12.3"
  }
 },
 "nbformat": 4,
 "nbformat_minor": 2
}
